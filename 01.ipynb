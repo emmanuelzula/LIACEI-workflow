{
 "cells": [
  {
   "cell_type": "markdown",
   "metadata": {},
   "source": [
    "# Preparación de la base de datos"
   ]
  },
  {
   "cell_type": "markdown",
   "metadata": {},
   "source": [
    "Importar modulos"
   ]
  },
  {
   "cell_type": "code",
   "execution_count": 1,
   "metadata": {},
   "outputs": [
    {
     "name": "stdout",
     "output_type": "stream",
     "text": [
      "/workspace/refactorizacion\n"
     ]
    }
   ],
   "source": [
    "!pwd"
   ]
  },
  {
   "cell_type": "code",
   "execution_count": 2,
   "metadata": {},
   "outputs": [],
   "source": [
    "from scripts.data import DinamicaMolecular\n",
    "from scripts.data import Frame\n",
    "from scripts.data import Posicion\n",
    "from scripts.data import Fuerza\n",
    "from scripts.data import ElementoQuimico\n",
    "import scripts.data\n",
    "import scripts.utils\n",
    "import numpy as np"
   ]
  },
  {
   "cell_type": "markdown",
   "metadata": {},
   "source": [
    "Factores de conversión"
   ]
  },
  {
   "cell_type": "code",
   "execution_count": 3,
   "metadata": {},
   "outputs": [],
   "source": [
    "HARTREE_TO_EV=27.211386245981 #Original: 27.21138602\n",
    "HA_BO_TO_EV_ANGS=51.4220675112 #Original: 51.422067137\n",
    "BO_TO_ANGS=0.529177210544"
   ]
  },
  {
   "cell_type": "markdown",
   "metadata": {},
   "source": [
    "Leer de archivo \"input/input.data\" y hacer las conversiones de unidades necesarias"
   ]
  },
  {
   "cell_type": "code",
   "execution_count": 4,
   "metadata": {},
   "outputs": [],
   "source": [
    "# Abrir archivo\n",
    "base_de_datos = DinamicaMolecular()\n",
    "# Leer el archivo línea por línea\n",
    "with open(\"input/input.data\", \"r\") as archivo:\n",
    "\n",
    "    for linea in archivo:\n",
    "        # Convertir línea de texto a una lista Python\n",
    "        linea = linea.split()\n",
    "\n",
    "        # Detectar el inicio de un frame\n",
    "        if linea[0] == \"begin\":\n",
    "            frame_actual = Frame()  # Crear un nuevo frame vacío\n",
    "\n",
    "        # Procesar información del átomo\n",
    "        elif linea[0] == \"atom\":\n",
    "            # Convertir valores de posición y fuerza a float\n",
    "            x, y, z = map(float, linea[1:4])\n",
    "            fx, fy, fz = map(float, linea[7:10])\n",
    "            \n",
    "            # Crear instancias de los elementos relacionados con el átomo\n",
    "            elemento = ElementoQuimico(linea[4])  # Crear el objeto ElementoQuimico\n",
    "            posicion = Posicion(x, y, z)* BO_TO_ANGS\n",
    "            fuerza = Fuerza(fx, fy, fz) * HA_BO_TO_EV_ANGS\n",
    "\n",
    "            # Agregar el átomo al frame actual\n",
    "            frame_actual.agregar_atomo(elemento, posicion, fuerza)\n",
    "\n",
    "        # Procesar información de la energía\n",
    "        elif linea[0] == \"energy\":\n",
    "            frame_actual.energia = float(linea[1]) * HARTREE_TO_EV\n",
    "\n",
    "        # Finalizar el frame actual\n",
    "        elif linea[0] == \"end\":\n",
    "            # Agregar el frame a la base de datos\n",
    "            base_de_datos.agregar_frame(frame_actual)"
   ]
  },
  {
   "cell_type": "markdown",
   "metadata": {},
   "source": [
    "Hacer las modificaciones necesarias a la energía"
   ]
  },
  {
   "cell_type": "code",
   "execution_count": 5,
   "metadata": {},
   "outputs": [],
   "source": [
    "for frame in base_de_datos.frames.values():\n",
    "    # Calcular la suma de las energías atómicas de los elementos\n",
    "    energia_total = sum(ElementoQuimico(e).energia_atomica() for e in frame.elementos)\n",
    "    \n",
    "    # Restar la energía atómica total de la energía actual del frame\n",
    "    frame.energia -= energia_total  # Actualizar directamente el atributo"
   ]
  },
  {
   "cell_type": "markdown",
   "metadata": {},
   "source": [
    "Guardar el dataset modificado en los formatos convenientes"
   ]
  },
  {
   "cell_type": "code",
   "execution_count": 6,
   "metadata": {},
   "outputs": [],
   "source": [
    "# DinamicaMolecular.guardar_a_xyz(base_de_datos,\"input/input.xyz\")"
   ]
  },
  {
   "cell_type": "code",
   "execution_count": 7,
   "metadata": {},
   "outputs": [],
   "source": [
    "#DinamicaMolecular.guardar_a_hdf5(base_de_datos,\"input/input_LIACEI.h5\")"
   ]
  },
  {
   "cell_type": "code",
   "execution_count": 8,
   "metadata": {},
   "outputs": [],
   "source": [
    "DinamicaMolecular.guardar_a_TorchMDNet(base_de_datos,\"input/input_torchmd-net.h5\")"
   ]
  },
  {
   "cell_type": "markdown",
   "metadata": {},
   "source": [
    "# Preparación del entrenamiento"
   ]
  },
  {
   "cell_type": "markdown",
   "metadata": {},
   "source": [
    "Cargar la base de datos en caso de ser necesario"
   ]
  },
  {
   "cell_type": "code",
   "execution_count": 9,
   "metadata": {},
   "outputs": [],
   "source": [
    "base_de_datos = DinamicaMolecular.cargar_desde_TorchMDNet(\"input/input_torchmd-net.h5\")"
   ]
  },
  {
   "cell_type": "markdown",
   "metadata": {},
   "source": [
    "Crear carpeta \"output\""
   ]
  },
  {
   "cell_type": "code",
   "execution_count": 10,
   "metadata": {},
   "outputs": [
    {
     "name": "stdout",
     "output_type": "stream",
     "text": [
      "Carpeta creada o ya existente: output\n"
     ]
    }
   ],
   "source": [
    "scripts.utils.crear_carpeta(\"output\")"
   ]
  },
  {
   "cell_type": "markdown",
   "metadata": {},
   "source": [
    "Gestionar indices"
   ]
  },
  {
   "cell_type": "code",
   "execution_count": 11,
   "metadata": {},
   "outputs": [
    {
     "name": "stdout",
     "output_type": "stream",
     "text": [
      "No se encontró ningún archivo .csv en la carpeta 'input'.\n",
      "No se encontró un archivo .npz en la carpeta 'input'. Se generaron los ids de cada conjunto de datos y se guardaron en 'input/splits.npz'.\n"
     ]
    }
   ],
   "source": [
    "numero_frames = base_de_datos.numero_frames\n",
    "scripts.utils.procesar_y_guardar_csv_a_npz(numero_frames,train=0.81, test=0.1, val=0.09)\n",
    "scripts.utils.cargar_o_generar_npz(numero_frames,train=0.81, test=0.1, val=0.09)"
   ]
  },
  {
   "cell_type": "markdown",
   "metadata": {},
   "source": [
    "Obtener los indices de los conjuntos train, val y test de la base de datos"
   ]
  },
  {
   "cell_type": "code",
   "execution_count": 12,
   "metadata": {},
   "outputs": [],
   "source": [
    "# Cargar los índices desde un archivo .npz\n",
    "splits = np.load(\"input/splits.npz\")\n",
    "idx_train = np.sort(splits['idx_train'])\n",
    "idx_val = np.sort(splits['idx_val'])\n",
    "idx_test = np.sort(splits['idx_test'])"
   ]
  },
  {
   "cell_type": "markdown",
   "metadata": {},
   "source": [
    "Separar los subconjuntos"
   ]
  },
  {
   "cell_type": "code",
   "execution_count": 13,
   "metadata": {},
   "outputs": [],
   "source": [
    "# Obtener subconjuntos de la dinámica molecular\n",
    "#subconjunto_train = DinamicaMolecular.subconjunto(base_de_datos, idx_train)\n",
    "#subconjunto_val = DinamicaMolecular.subconjunto(base_de_datos, idx_val)\n",
    "#subconjunto_test = DinamicaMolecular.subconjunto(base_de_datos, idx_test)"
   ]
  },
  {
   "cell_type": "markdown",
   "metadata": {},
   "source": [
    "Guardar los subconjuntos en el formato adecuado"
   ]
  },
  {
   "cell_type": "code",
   "execution_count": 14,
   "metadata": {},
   "outputs": [],
   "source": [
    "#DinamicaMolecular.guardar_a_xyz(subconjunto_train,\"input/input_train.xyz\")\n",
    "#DinamicaMolecular.guardar_a_xyz(subconjunto_val,\"input/input_val.xyz\")\n",
    "#DinamicaMolecular.guardar_a_xyz(subconjunto_test,\"input/input_test.xyz\")"
   ]
  }
 ],
 "metadata": {
  "kernelspec": {
   "display_name": "torchmd-net",
   "language": "python",
   "name": "torchmd-net"
  },
  "language_info": {
   "codemirror_mode": {
    "name": "ipython",
    "version": 3
   },
   "file_extension": ".py",
   "mimetype": "text/x-python",
   "name": "python",
   "nbconvert_exporter": "python",
   "pygments_lexer": "ipython3",
   "version": "3.11.11"
  }
 },
 "nbformat": 4,
 "nbformat_minor": 2
}
