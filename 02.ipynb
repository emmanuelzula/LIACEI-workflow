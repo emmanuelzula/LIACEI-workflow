{
 "cells": [
  {
   "cell_type": "markdown",
   "metadata": {},
   "source": [
    "# Configuración del Entrenamiento"
   ]
  },
  {
   "cell_type": "markdown",
   "metadata": {},
   "source": [
    "## Argumentos del entrenamiento"
   ]
  },
  {
   "cell_type": "code",
   "execution_count": 70,
   "metadata": {},
   "outputs": [],
   "source": [
    "from scripts.utils import configuracion_TorchMDNet\n",
    "import scripts.utils"
   ]
  },
  {
   "cell_type": "markdown",
   "metadata": {},
   "source": [
    "`--load-model`: Permite cargar un modelo desde un punto de control (*checkpoint*). Esto se utiliza para continuar un entrenamiento interrumpido o realizar inferencias sin necesidad de entrenar desde cero. *(Valor por defecto: `None`)*."
   ]
  },
  {
   "cell_type": "markdown",
   "metadata": {},
   "source": [
    "`--conf`, `-c`: Especifica un archivo de configuración en formato YAML que contiene parámetros y configuraciones para el modelo. Centraliza y organiza todas las configuraciones en un solo lugar, facilitando su reutilización. *(Valor por defecto: `None`)*.\n"
   ]
  },
  {
   "cell_type": "markdown",
   "metadata": {},
   "source": [
    "`--num-epochs`: Define el número total de épocas para el entrenamiento, donde una época corresponde a una iteración completa sobre el conjunto de datos de entrenamiento. *(Valor por defecto: `300`)*."
   ]
  },
  {
   "cell_type": "code",
   "execution_count": 71,
   "metadata": {},
   "outputs": [],
   "source": [
    "configuracion_TorchMDNet(\"input/config.yaml\", num_epochs=1000)"
   ]
  },
  {
   "cell_type": "markdown",
   "metadata": {},
   "source": [
    "`--batch-size`: Tamaño del lote utilizado en el entrenamiento. Un tamaño mayor mejora la estabilidad del entrenamiento, pero requiere más memoria GPU. *(Valor por defecto: `32`)*."
   ]
  },
  {
   "cell_type": "code",
   "execution_count": 72,
   "metadata": {},
   "outputs": [],
   "source": [
    "configuracion_TorchMDNet(\"input/config.yaml\", batch_size=16)"
   ]
  },
  {
   "cell_type": "markdown",
   "metadata": {},
   "source": [
    "`--inference-batch-size`: Tamaño del lote usado durante la validación y las pruebas. Esto puede ser diferente al tamaño de lote de entrenamiento para optimizar el uso de memoria durante la inferencia. *(Valor por defecto: `None`)*.\n"
   ]
  },
  {
   "cell_type": "code",
   "execution_count": 73,
   "metadata": {},
   "outputs": [],
   "source": [
    "configuracion_TorchMDNet(\"input/config.yaml\", inference_batch_size=4)"
   ]
  },
  {
   "cell_type": "markdown",
   "metadata": {},
   "source": [
    "`--lr` (learning rate): Tasa de aprendizaje inicial para el optimizador. Controla el tamaño de los pasos que toma el modelo al ajustar los pesos para minimizar el error. *(Valor por defecto: `1e-4`)*.\n"
   ]
  },
  {
   "cell_type": "code",
   "execution_count": 74,
   "metadata": {},
   "outputs": [],
   "source": [
    "configuracion_TorchMDNet(\"input/config.yaml\", lr=0.0007)"
   ]
  },
  {
   "cell_type": "markdown",
   "metadata": {},
   "source": [
    "`--lr-patience`: Número de evaluaciones consecutivas sin mejora en la métrica especificada antes de reducir la tasa de aprendizaje. *(Valor por defecto: `10`)*.\n"
   ]
  },
  {
   "cell_type": "code",
   "execution_count": 75,
   "metadata": {},
   "outputs": [],
   "source": [
    "configuracion_TorchMDNet(\"input/config.yaml\", lr_patience=5)"
   ]
  },
  {
   "cell_type": "markdown",
   "metadata": {},
   "source": [
    "`--lr-metric`: Métrica utilizada para decidir si reducir la tasa de aprendizaje. Por ejemplo, `val_loss` (pérdida en validación) o `train_loss` (pérdida en entrenamiento). *(Valor por defecto: `'val_loss'`)*.\n"
   ]
  },
  {
   "cell_type": "code",
   "execution_count": 76,
   "metadata": {},
   "outputs": [],
   "source": [
    "configuracion_TorchMDNet(\"input/config.yaml\", lr_metric=\"Default\")"
   ]
  },
  {
   "cell_type": "markdown",
   "metadata": {},
   "source": [
    "`--lr-min`: Valor mínimo que puede alcanzar la tasa de aprendizaje antes de detener el entrenamiento por falta de progreso. *(Valor por defecto: `1e-6`)*."
   ]
  },
  {
   "cell_type": "code",
   "execution_count": 77,
   "metadata": {},
   "outputs": [],
   "source": [
    "configuracion_TorchMDNet(\"input/config.yaml\", lr_min=1.0e-07)"
   ]
  },
  {
   "cell_type": "markdown",
   "metadata": {},
   "source": [
    "`--lr-factor`: Factor por el cual se multiplica la tasa de aprendizaje cuando la métrica monitoreada deja de mejorar. Por ejemplo, si es `0.8`, la tasa de aprendizaje se reducirá al 80% de su valor actual. *(Valor por defecto: `0.8`)*."
   ]
  },
  {
   "cell_type": "code",
   "execution_count": 78,
   "metadata": {},
   "outputs": [],
   "source": [
    "configuracion_TorchMDNet(\"input/config.yaml\", lr_factor=0.5)"
   ]
  },
  {
   "cell_type": "markdown",
   "metadata": {},
   "source": [
    "`--lr-warmup-steps`: Número de pasos iniciales donde la tasa de aprendizaje aumenta linealmente desde un valor bajo hasta su valor inicial. Este enfoque estabiliza el entrenamiento en las primeras etapas. *(Valor por defecto: `0`)*."
   ]
  },
  {
   "cell_type": "code",
   "execution_count": 79,
   "metadata": {},
   "outputs": [],
   "source": [
    "configuracion_TorchMDNet(\"input/config.yaml\", lr_warmup_steps=10000)"
   ]
  },
  {
   "cell_type": "markdown",
   "metadata": {},
   "source": [
    "`--early-stopping-patience`: Detiene el entrenamiento si no hay mejora en la métrica monitoreada después de un número determinado de épocas. *(Valor por defecto: `30`)*."
   ]
  },
  {
   "cell_type": "code",
   "execution_count": 80,
   "metadata": {},
   "outputs": [],
   "source": [
    "configuracion_TorchMDNet(\"input/config.yaml\", early_stopping_patience=500)"
   ]
  },
  {
   "cell_type": "markdown",
   "metadata": {},
   "source": [
    "`--reset-trainer`: Restablece las métricas relacionadas con el entrenamiento, como *early stopping* y la tasa de aprendizaje, al cargar un modelo desde un punto de control. *(Valor por defecto: `False`)*."
   ]
  },
  {
   "cell_type": "code",
   "execution_count": 81,
   "metadata": {},
   "outputs": [],
   "source": [
    "configuracion_TorchMDNet(\"input/config.yaml\", reset_trainer=\"Default\")"
   ]
  },
  {
   "cell_type": "markdown",
   "metadata": {},
   "source": [
    "`--weight-decay`: Regularización L2 aplicada a los pesos del modelo. Ayuda a prevenir el sobreajuste penalizando pesos excesivamente grandes. *(Valor por defecto: `0.0`)*."
   ]
  },
  {
   "cell_type": "code",
   "execution_count": 82,
   "metadata": {},
   "outputs": [],
   "source": [
    "configuracion_TorchMDNet(\"input/config.yaml\", weight_decay=\"Default\")"
   ]
  },
  {
   "cell_type": "markdown",
   "metadata": {},
   "source": [
    "`--ema-alpha-y`, `--ema-alpha-neg-dy`: Parámetros que determinan la influencia de nuevas pérdidas en el promedio móvil exponencial (*Exponential Moving Average*, EMA) de ciertas métricas. *(Valores por defecto: `1.0` para ambos)*.\n"
   ]
  },
  {
   "cell_type": "code",
   "execution_count": 83,
   "metadata": {},
   "outputs": [],
   "source": [
    "configuracion_TorchMDNet(\"input/config.yaml\", ema_alpha_y=\"Default\")"
   ]
  },
  {
   "cell_type": "code",
   "execution_count": 84,
   "metadata": {},
   "outputs": [],
   "source": [
    "configuracion_TorchMDNet(\"input/config.yaml\", ema_alpha_neg_dy=\"Default\")"
   ]
  },
  {
   "cell_type": "markdown",
   "metadata": {},
   "source": [
    "`--ngpus`: Número de GPUs a usar durante el entrenamiento. Un valor de `-1` indica que se utilizarán todas las GPUs disponibles. *(Valor por defecto: `-1`)*."
   ]
  },
  {
   "cell_type": "code",
   "execution_count": 85,
   "metadata": {},
   "outputs": [],
   "source": [
    "configuracion_TorchMDNet(\"input/config.yaml\", ngpus=\"Default\")"
   ]
  },
  {
   "cell_type": "markdown",
   "metadata": {},
   "source": [
    "`--num-nodes`: Especifica el número de nodos en un entorno distribuido. Cada nodo puede tener múltiples GPUs. *(Valor por defecto: `1`)*.\n"
   ]
  },
  {
   "cell_type": "code",
   "execution_count": 86,
   "metadata": {},
   "outputs": [],
   "source": [
    "configuracion_TorchMDNet(\"input/config.yaml\", num_nodes=\"Default\")"
   ]
  },
  {
   "cell_type": "markdown",
   "metadata": {},
   "source": [
    "`--precision`: Define la precisión de los cálculos en coma flotante. Puede ser `16`, `32` o `64`. Una menor precisión (`16`) puede acelerar los cálculos y reducir el consumo de memoria. *(Valor por defecto: `32`)*.\n"
   ]
  },
  {
   "cell_type": "code",
   "execution_count": 87,
   "metadata": {},
   "outputs": [],
   "source": [
    "configuracion_TorchMDNet(\"input/config.yaml\", precision=\"Default\")"
   ]
  },
  {
   "cell_type": "markdown",
   "metadata": {},
   "source": [
    "`--log-dir`, `-l`: Directorio donde se guardarán los registros del entrenamiento, como métricas, checkpoints y errores. *(Valor por defecto: `'/output'`)*."
   ]
  },
  {
   "cell_type": "code",
   "execution_count": 88,
   "metadata": {},
   "outputs": [],
   "source": [
    "configuracion_TorchMDNet(\"input/config.yaml\", log_dir=\"Default\")"
   ]
  },
  {
   "cell_type": "markdown",
   "metadata": {},
   "source": [
    "`--splits`: Archivo `.npz` que contiene los índices para dividir los datos en conjuntos de entrenamiento (`idx_train`), validación (`idx_val`) y prueba (`idx_test`). *(Valor por defecto: `None`)*."
   ]
  },
  {
   "cell_type": "code",
   "execution_count": 89,
   "metadata": {},
   "outputs": [],
   "source": [
    "configuracion_TorchMDNet(\"input/config.yaml\", splits=\"Default\")"
   ]
  },
  {
   "cell_type": "markdown",
   "metadata": {},
   "source": [
    "`--train-size`: Especifica el tamaño (en porcentaje o número absoluto) del conjunto de entrenamiento. Si se deja como `None`, se utiliza todo el conjunto restante. *(Valor por defecto: `None`)*."
   ]
  },
  {
   "cell_type": "code",
   "execution_count": 90,
   "metadata": {},
   "outputs": [],
   "source": [
    "\n",
    "configuracion_TorchMDNet(\"input/config.yaml\", train_size=0.81)"
   ]
  },
  {
   "cell_type": "markdown",
   "metadata": {},
   "source": [
    "`--val-size`: Especifica el tamaño (en porcentaje o número absoluto) del conjunto de validación. Si se deja como `None`, se utiliza todo el conjunto restante después de dividir el entrenamiento. *(Valor por defecto: `0.05`)*.\n"
   ]
  },
  {
   "cell_type": "code",
   "execution_count": 91,
   "metadata": {},
   "outputs": [],
   "source": [
    "configuracion_TorchMDNet(\"input/config.yaml\", val_size=0.09)"
   ]
  },
  {
   "cell_type": "markdown",
   "metadata": {},
   "source": [
    "`--test-size`: Especifica el tamaño (en porcentaje o número absoluto) del conjunto de prueba. Si se deja como `None`, se utiliza todo el conjunto restante después de las divisiones anteriores. *(Valor por defecto: `0.1`)*.\n"
   ]
  },
  {
   "cell_type": "code",
   "execution_count": 92,
   "metadata": {},
   "outputs": [],
   "source": [
    "configuracion_TorchMDNet(\"input/config.yaml\", test_size=0.1)"
   ]
  },
  {
   "cell_type": "markdown",
   "metadata": {},
   "source": [
    "`--test-interval`: Frecuencia (en épocas) con la que se evalúa el conjunto de prueba. Un valor predeterminado de `10` significa que la evaluación se realiza cada 10 épocas. *(Valor por defecto: `10`)*."
   ]
  },
  {
   "cell_type": "code",
   "execution_count": 93,
   "metadata": {},
   "outputs": [],
   "source": [
    "configuracion_TorchMDNet(\"input/config.yaml\", test_interval=\"Default\")"
   ]
  },
  {
   "cell_type": "markdown",
   "metadata": {},
   "source": [
    "`--save-interval`: Frecuencia (en épocas) con la que se guarda un checkpoint del modelo durante el entrenamiento. *(Valor por defecto: `10`)*."
   ]
  },
  {
   "cell_type": "code",
   "execution_count": 94,
   "metadata": {},
   "outputs": [],
   "source": [
    "configuracion_TorchMDNet(\"input/config.yaml\", save_interval=\"Default\")"
   ]
  },
  {
   "cell_type": "markdown",
   "metadata": {},
   "source": [
    "`--seed`: Semilla aleatoria para garantizar reproducibilidad en la inicialización del modelo y los procesos de entrenamiento. *(Valor por defecto: `1`)*."
   ]
  },
  {
   "cell_type": "code",
   "execution_count": 95,
   "metadata": {},
   "outputs": [],
   "source": [
    "configuracion_TorchMDNet(\"input/config.yaml\", seed=42)"
   ]
  },
  {
   "cell_type": "markdown",
   "metadata": {},
   "source": [
    "`--num-workers`: Número de procesos paralelos para preprocesar y cargar los datos. Un mayor número puede mejorar la velocidad de carga, pero también aumenta el uso de memoria. *(Valor por defecto: `4`)*."
   ]
  },
  {
   "cell_type": "code",
   "execution_count": 96,
   "metadata": {},
   "outputs": [],
   "source": [
    "configuracion_TorchMDNet(\"input/config.yaml\", num_workers=6)"
   ]
  },
  {
   "cell_type": "markdown",
   "metadata": {},
   "source": [
    "`--redirect`: Si está habilitado, redirige las salidas estándar (`stdout`) y los errores (`stderr`) a un archivo de registro en el directorio especificado. *(Valor por defecto: `False`)*.\n"
   ]
  },
  {
   "cell_type": "code",
   "execution_count": 97,
   "metadata": {},
   "outputs": [],
   "source": [
    "configuracion_TorchMDNet(\"input/config.yaml\", redirect=\"Default\")"
   ]
  },
  {
   "cell_type": "markdown",
   "metadata": {},
   "source": [
    "`--gradient-clipping`: Limita la magnitud de los gradientes para evitar explosiones de gradientes, especialmente en redes profundas. *(Valor por defecto: `0.0`)*."
   ]
  },
  {
   "cell_type": "code",
   "execution_count": 98,
   "metadata": {},
   "outputs": [],
   "source": [
    "configuracion_TorchMDNet(\"input/config.yaml\", gradient_clipping=\"Default\")"
   ]
  },
  {
   "cell_type": "markdown",
   "metadata": {},
   "source": [
    "## Argumentos especificos del dataset"
   ]
  },
  {
   "cell_type": "markdown",
   "metadata": {},
   "source": [
    "`--dataset`: Especifica el nombre del dataset que se utilizará. Este argumento debe ser uno de los disponibles en `torch_geometric.datasets.__all__`. Esto es útil para seleccionar entre datasets predefinidos de gráficos. *(Valor por defecto: `HDF5`)*.\n"
   ]
  },
  {
   "cell_type": "code",
   "execution_count": 99,
   "metadata": {},
   "outputs": [],
   "source": [
    "configuracion_TorchMDNet(\"input/config.yaml\", dataset=\"Default\")"
   ]
  },
  {
   "cell_type": "markdown",
   "metadata": {},
   "source": [
    "`--dataset-root`: Directorio donde se almacenan los datos del dataset. Si el dataset es \"CG\", este argumento no será utilizado. *(Valor por defecto: `'input/input_torchmd-net.h5'`)*."
   ]
  },
  {
   "cell_type": "code",
   "execution_count": 100,
   "metadata": {},
   "outputs": [],
   "source": [
    "configuracion_TorchMDNet(\"input/config.yaml\", dataset_root=\"Default\")"
   ]
  },
  {
   "cell_type": "markdown",
   "metadata": {},
   "source": [
    "`--dataset-arg`: Permite pasar argumentos adicionales para ciertos datasets, como propiedades específicas en QM9 o moléculas específicas en MD17. Deben especificarse en formato JSON, por ejemplo: `{\"molecules\": \"aspirin,benzene\"}`. *(Valor por defecto: `None`)*.\n"
   ]
  },
  {
   "cell_type": "code",
   "execution_count": 101,
   "metadata": {},
   "outputs": [],
   "source": [
    "configuracion_TorchMDNet(\"input/config.yaml\", dataset_arg=\"Default\")"
   ]
  },
  {
   "cell_type": "markdown",
   "metadata": {},
   "source": [
    "`--coord-files`: Ruta para archivos personalizados de coordenadas, definida mediante un patrón glob. Esto permite trabajar con datos personalizados en lugar de usar el dataset por defecto. *(Valor por defecto: `None`)*.\n"
   ]
  },
  {
   "cell_type": "code",
   "execution_count": 102,
   "metadata": {},
   "outputs": [],
   "source": [
    "configuracion_TorchMDNet(\"input/config.yaml\", coord_files=\"Default\")"
   ]
  },
  {
   "cell_type": "markdown",
   "metadata": {},
   "source": [
    "`--embed-files`: Ruta para archivos personalizados de embeddings, definida mediante un patrón glob. Los embeddings son representaciones aprendidas de las entidades en el dataset. *(Valor por defecto: `None`)*."
   ]
  },
  {
   "cell_type": "code",
   "execution_count": 103,
   "metadata": {},
   "outputs": [],
   "source": [
    "configuracion_TorchMDNet(\"input/config.yaml\", embed_files=\"Default\")"
   ]
  },
  {
   "cell_type": "markdown",
   "metadata": {},
   "source": [
    "`--energy-files`: Ruta para archivos personalizados de energía, definida mediante un patrón glob. Esto es útil si las energías no forman parte del dataset por defecto. *(Valor por defecto: `None`)*."
   ]
  },
  {
   "cell_type": "code",
   "execution_count": 104,
   "metadata": {},
   "outputs": [],
   "source": [
    "configuracion_TorchMDNet(\"input/config.yaml\", energy_files=\"Default\")"
   ]
  },
  {
   "cell_type": "markdown",
   "metadata": {},
   "source": [
    "`--force-files`: Ruta para archivos personalizados de fuerzas, definida mediante un patrón glob. Las fuerzas son importantes en simulaciones como MD (dinámica molecular). *(Valor por defecto: `None`)*."
   ]
  },
  {
   "cell_type": "code",
   "execution_count": 105,
   "metadata": {},
   "outputs": [],
   "source": [
    "configuracion_TorchMDNet(\"input/config.yaml\", force_files=\"Default\")"
   ]
  },
  {
   "cell_type": "markdown",
   "metadata": {},
   "source": [
    "`--y-weight`: Factor de peso aplicado a la etiqueta `y` en la función de pérdida. Esto ajusta la importancia relativa de las predicciones de `y` durante el entrenamiento. *(Valor por defecto: `1.0`)*."
   ]
  },
  {
   "cell_type": "code",
   "execution_count": 106,
   "metadata": {},
   "outputs": [],
   "source": [
    "\n",
    "configuracion_TorchMDNet(\"input/config.yaml\", y_weight=\"Default\")"
   ]
  },
  {
   "cell_type": "markdown",
   "metadata": {},
   "source": [
    "`--neg-dy-weight`: Factor de peso aplicado a la etiqueta `neg_dy` en la función de pérdida. Similar al `y-weight`, ajusta la importancia relativa de las predicciones de `neg_dy`. *(Valor por defecto: `1.0`)*."
   ]
  },
  {
   "cell_type": "code",
   "execution_count": 107,
   "metadata": {},
   "outputs": [],
   "source": [
    "configuracion_TorchMDNet(\"input/config.yaml\", neg_dy_weight=\"Default\")"
   ]
  },
  {
   "cell_type": "markdown",
   "metadata": {},
   "source": [
    "## Argumentos del modelo"
   ]
  },
  {
   "cell_type": "markdown",
   "metadata": {},
   "source": [
    "`--model`: Especifica el modelo que se utilizará para el entrenamiento. Debe ser uno de los modelos disponibles en `models.__all__`. Este argumento define la arquitectura base de la red neuronal. *(Valor por defecto: `'graph-network'`)*."
   ]
  },
  {
   "cell_type": "code",
   "execution_count": 108,
   "metadata": {},
   "outputs": [],
   "source": [
    "configuracion_TorchMDNet(\"input/config.yaml\", model=\"equivariant-transformer\")"
   ]
  },
  {
   "cell_type": "markdown",
   "metadata": {},
   "source": [
    "`--output-model`: Define el tipo de modelo de salida que se empleará. Esto controla cómo se procesan las salidas del modelo base para producir predicciones finales. Debe ser una de las opciones en `output_modules.__all__`. *(Valor por defecto: `'Scalar'`)*."
   ]
  },
  {
   "cell_type": "code",
   "execution_count": 109,
   "metadata": {},
   "outputs": [],
   "source": [
    "configuracion_TorchMDNet(\"input/config.yaml\", output_model=\"Default\")"
   ]
  },
  {
   "cell_type": "markdown",
   "metadata": {},
   "source": [
    "`--prior-model`: Especifica el modelo previo (prior model) que se utilizará. Este tipo de modelo puede incorporar conocimiento previo o restricciones adicionales al proceso de aprendizaje. Debe seleccionarse de entre las opciones disponibles en `priors.__all__`. *(Valor por defecto: `None`)*."
   ]
  },
  {
   "cell_type": "code",
   "execution_count": 110,
   "metadata": {},
   "outputs": [],
   "source": [
    "configuracion_TorchMDNet(\"input/config.yaml\", prior_model=\"Default\")"
   ]
  },
  {
   "cell_type": "markdown",
   "metadata": {},
   "source": [
    "## Argumentos de la arquitectura"
   ]
  },
  {
   "cell_type": "markdown",
   "metadata": {},
   "source": [
    "`--charge`: Indica si el modelo necesita información sobre la carga total del sistema como entrada. Esto es relevante en simulaciones químicas o físicas donde la carga afecta los cálculos. *(Valor por defecto: `False`)*."
   ]
  },
  {
   "cell_type": "code",
   "execution_count": 111,
   "metadata": {},
   "outputs": [],
   "source": [
    "configuracion_TorchMDNet(\"input/config.yaml\", charge=\"Default\")"
   ]
  },
  {
   "cell_type": "markdown",
   "metadata": {},
   "source": [
    "`--spin`: Especifica si el modelo necesita el estado de espín como entrada. Esto es importante para modelos que trabajan con propiedades electrónicas o magnéticas. *(Valor por defecto: `False`)*."
   ]
  },
  {
   "cell_type": "code",
   "execution_count": 112,
   "metadata": {},
   "outputs": [],
   "source": [
    "configuracion_TorchMDNet(\"input/config.yaml\", spin=\"Default\")"
   ]
  },
  {
   "cell_type": "markdown",
   "metadata": {},
   "source": [
    "`--embedding-dimension`: Define la dimensión de las capas de embedding en el modelo. Una mayor dimensión permite al modelo aprender representaciones más complejas, pero aumenta el uso de memoria y el costo computacional. *(Valor por defecto: `256`)*."
   ]
  },
  {
   "cell_type": "code",
   "execution_count": 113,
   "metadata": {},
   "outputs": [],
   "source": [
    "configuracion_TorchMDNet(\"input/config.yaml\", embedding_dimension=128)"
   ]
  },
  {
   "cell_type": "markdown",
   "metadata": {},
   "source": [
    "`--num-layers`: Especifica el número de capas de interacción en el modelo. Más capas suelen mejorar la capacidad del modelo para capturar relaciones complejas, pero pueden aumentar el riesgo de sobreajuste. *(Valor por defecto: `6`)*."
   ]
  },
  {
   "cell_type": "code",
   "execution_count": 114,
   "metadata": {},
   "outputs": [],
   "source": [
    "configuracion_TorchMDNet(\"input/config.yaml\", num_layers=\"Default\")"
   ]
  },
  {
   "cell_type": "markdown",
   "metadata": {},
   "source": [
    "`--num-rbf`: Número de funciones base radiales (RBF) utilizadas en el modelo para expandir distancias. Estas funciones permiten representar interacciones entre puntos en el espacio de manera más detallada. *(Valor por defecto: `64`)*."
   ]
  },
  {
   "cell_type": "code",
   "execution_count": 115,
   "metadata": {},
   "outputs": [],
   "source": [
    "configuracion_TorchMDNet(\"input/config.yaml\", num_rbf=32)"
   ]
  },
  {
   "cell_type": "markdown",
   "metadata": {},
   "source": [
    "`--activation`: Define la función de activación que se usará en las capas del modelo. Las funciones de activación no lineales permiten que el modelo capture relaciones complejas en los datos. Debe ser una de las disponibles en `act_class_mapping.keys()`. *(Valor por defecto: `'silu'`)*.\n"
   ]
  },
  {
   "cell_type": "code",
   "execution_count": 116,
   "metadata": {},
   "outputs": [],
   "source": [
    "configuracion_TorchMDNet(\"input/config.yaml\", activation=\"Default\")"
   ]
  },
  {
   "cell_type": "markdown",
   "metadata": {},
   "source": [
    "`--rbf-type`: Especifica el tipo de expansión de distancia que se usará. Esto determina cómo se representan las distancias en el modelo, afectando la capacidad del modelo para capturar relaciones espaciales. Debe ser una de las opciones en `rbf_class_mapping.keys()`. *(Valor por defecto: `'expnorm'`)*."
   ]
  },
  {
   "cell_type": "code",
   "execution_count": 117,
   "metadata": {},
   "outputs": [],
   "source": [
    "configuracion_TorchMDNet(\"input/config.yaml\", rbf_type=\"Default\")"
   ]
  },
  {
   "cell_type": "markdown",
   "metadata": {},
   "source": [
    "`--trainable-rbf`: Indica si las funciones de expansión de distancia (RBF) deben ser entrenables. Esto permite que el modelo ajuste dinámicamente cómo se representan las distancias durante el entrenamiento. *(Valor por defecto: `False`)*.\n"
   ]
  },
  {
   "cell_type": "code",
   "execution_count": 118,
   "metadata": {},
   "outputs": [],
   "source": [
    "configuracion_TorchMDNet(\"input/config.yaml\", trainable_rbf=\"Default\")"
   ]
  },
  {
   "cell_type": "markdown",
   "metadata": {},
   "source": [
    "`--neighbor-embedding`: Especifica si se debe aplicar un embedding a los vecinos antes de las interacciones. Esto puede mejorar la representación de los vecinos en sistemas donde las interacciones locales son importantes. *(Valor por defecto: `False`)*."
   ]
  },
  {
   "cell_type": "code",
   "execution_count": 119,
   "metadata": {},
   "outputs": [],
   "source": [
    "configuracion_TorchMDNet(\"input/config.yaml\", neighbor_embedding=True)"
   ]
  },
  {
   "cell_type": "markdown",
   "metadata": {},
   "source": [
    "`--aggr`: Define la operación de agregación que se usará en las salidas del filtro CFConv. Las opciones disponibles son `'add'`, `'mean'` o `'max'`. Esto afecta cómo se combinan las contribuciones de múltiples vecinos. *(Valor por defecto: `'add'`)*.\n"
   ]
  },
  {
   "cell_type": "code",
   "execution_count": 120,
   "metadata": {},
   "outputs": [],
   "source": [
    "configuracion_TorchMDNet(\"input/config.yaml\", aggr=\"Default\")"
   ]
  },
  {
   "cell_type": "markdown",
   "metadata": {},
   "source": [
    "## Argumentos del transformer"
   ]
  },
  {
   "cell_type": "markdown",
   "metadata": {},
   "source": [
    "`--distance-influence`: Define cómo se incluye la información de las distancias en el mecanismo de atención del transformador. Las opciones son:\n",
    "- `'keys'`: Las distancias afectan las claves en la atención.\n",
    "- `'values'`: Las distancias afectan los valores.\n",
    "- `'both'`: Las distancias afectan tanto las claves como los valores.\n",
    "- `'none'`: No se incluye información de distancia en la atención.\n",
    "\n",
    "Esto es relevante en contextos como dinámica molecular, donde las distancias espaciales entre átomos influyen en las interacciones. *(Valor por defecto: `'both'`)*."
   ]
  },
  {
   "cell_type": "code",
   "execution_count": 121,
   "metadata": {},
   "outputs": [],
   "source": [
    "configuracion_TorchMDNet(\"input/config.yaml\", distance_influence=\"Default\")"
   ]
  },
  {
   "cell_type": "markdown",
   "metadata": {},
   "source": [
    "`--attn-activation`: Especifica la función de activación utilizada dentro del mecanismo de atención del transformador. Una activación adecuada mejora la capacidad de modelar interacciones complejas. Debe ser una de las opciones disponibles en `act_class_mapping.keys()`. *(Valor por defecto: `'silu'`)*.\n"
   ]
  },
  {
   "cell_type": "code",
   "execution_count": 122,
   "metadata": {},
   "outputs": [],
   "source": [
    "configuracion_TorchMDNet(\"input/config.yaml\", attn_activation=\"Default\")"
   ]
  },
  {
   "cell_type": "markdown",
   "metadata": {},
   "source": [
    "`--num-heads`: Define el número de cabezas de atención en el transformador. Más cabezas permiten que el modelo enfoque su atención en múltiples aspectos de los datos simultáneamente, lo que puede mejorar la captura de relaciones complejas. Sin embargo, aumenta el costo computacional. *(Valor por defecto: `8`)*."
   ]
  },
  {
   "cell_type": "code",
   "execution_count": 123,
   "metadata": {},
   "outputs": [],
   "source": [
    "configuracion_TorchMDNet(\"input/config.yaml\", num_heads=\"Default\")"
   ]
  },
  {
   "cell_type": "markdown",
   "metadata": {},
   "source": [
    "## Argumentos Tensornet"
   ]
  },
  {
   "cell_type": "markdown",
   "metadata": {},
   "source": [
    "`--equivariance-invariance-group`: Especifica el grupo de equivariancia e invariancia utilizado en TensorNet. Esto define las simetrías que el modelo debe respetar durante el aprendizaje, como la simetría rotacional y traslacional. En el contexto de dinámicas moleculares y gráficos espaciales, la elección de un grupo como `O(3)` asegura que el modelo sea insensible a rotaciones y traslaciones en el espacio tridimensional. *(Valor por defecto: `'O(3)'`)*."
   ]
  },
  {
   "cell_type": "code",
   "execution_count": 124,
   "metadata": {},
   "outputs": [],
   "source": [
    "configuracion_TorchMDNet(\"input/config.yaml\", equivariance_invariance_group=\"Default\")"
   ]
  },
  {
   "cell_type": "markdown",
   "metadata": {},
   "source": [
    "## Otros Argumentos"
   ]
  },
  {
   "cell_type": "markdown",
   "metadata": {},
   "source": [
    "`--derivative`: Si se establece en `True`, calcula la derivada de la predicción con respecto a las coordenadas. Esto es útil en aplicaciones como dinámica molecular, donde las fuerzas se derivan de la energía potencial. *(Valor por defecto: `False`)*."
   ]
  },
  {
   "cell_type": "code",
   "execution_count": 125,
   "metadata": {},
   "outputs": [],
   "source": [
    "configuracion_TorchMDNet(\"input/config.yaml\", derivative=True)"
   ]
  },
  {
   "cell_type": "markdown",
   "metadata": {},
   "source": [
    "`--cutoff-lower`: Define el límite inferior para la distancia de interacción en el modelo. Átomos más cercanos que este valor no se tendrán en cuenta. *(Valor por defecto: `0.0`)*."
   ]
  },
  {
   "cell_type": "code",
   "execution_count": 126,
   "metadata": {},
   "outputs": [],
   "source": [
    "\n",
    "configuracion_TorchMDNet(\"input/config.yaml\", cutoff_lower=\"Default\")"
   ]
  },
  {
   "cell_type": "markdown",
   "metadata": {},
   "source": [
    "`--cutoff-upper`: Define el límite superior para la distancia de interacción en el modelo. Átomos más lejanos que este valor no se tendrán en cuenta. *(Valor por defecto: `5.0`)*."
   ]
  },
  {
   "cell_type": "code",
   "execution_count": 127,
   "metadata": {},
   "outputs": [],
   "source": [
    "configuracion_TorchMDNet(\"input/config.yaml\", cutoff_upper=6.35)"
   ]
  },
  {
   "cell_type": "markdown",
   "metadata": {},
   "source": [
    "`--atom-filter`: Especifica un filtro basado en el número atómico (`Z`). Solo se consideran átomos con un número atómico mayor que este valor en los cálculos. *(Valor por defecto: `-1`, lo que significa que todos los átomos son considerados)*."
   ]
  },
  {
   "cell_type": "code",
   "execution_count": 128,
   "metadata": {},
   "outputs": [],
   "source": [
    "configuracion_TorchMDNet(\"input/config.yaml\", atom_filter=\"Default\")"
   ]
  },
  {
   "cell_type": "markdown",
   "metadata": {},
   "source": [
    "`--max-z`: Define el número atómico máximo que puede representarse en la matriz de embedding. Esto asegura que el modelo pueda manejar átomos hasta este número atómico. *(Valor por defecto: `100`)*."
   ]
  },
  {
   "cell_type": "code",
   "execution_count": 129,
   "metadata": {},
   "outputs": [],
   "source": [
    "configuracion_TorchMDNet(\"input/config.yaml\", max_z=\"Default\")"
   ]
  },
  {
   "cell_type": "markdown",
   "metadata": {},
   "source": [
    "`--max-num-neighbors`: Establece el número máximo de vecinos a considerar en la red. Esto controla la complejidad computacional al limitar las interacciones procesadas. *(Valor por defecto: `32`)*."
   ]
  },
  {
   "cell_type": "code",
   "execution_count": 130,
   "metadata": {},
   "outputs": [],
   "source": [
    "configuracion_TorchMDNet(\"input/config.yaml\", max_num_neighbors=140)"
   ]
  },
  {
   "cell_type": "markdown",
   "metadata": {},
   "source": [
    "`--standardize`: Si se establece en `True`, multiplica la predicción por la desviación estándar y suma la media del conjunto de datos, reescalando las predicciones a la escala original de los datos. *(Valor por defecto: `False`)*."
   ]
  },
  {
   "cell_type": "code",
   "execution_count": 131,
   "metadata": {},
   "outputs": [],
   "source": [
    "configuracion_TorchMDNet(\"input/config.yaml\", standardize=\"Default\")"
   ]
  },
  {
   "cell_type": "markdown",
   "metadata": {},
   "source": [
    "`--reduce-op`: Define la operación de reducción que se aplica a las predicciones atómicas para obtener una predicción global. Las opciones son:\n",
    "- `'add'`: Suma todas las contribuciones atómicas.\n",
    "- `'mean'`: Calcula el promedio de las contribuciones atómicas.\n",
    "*(Valor por defecto: `'add'`)*."
   ]
  },
  {
   "cell_type": "code",
   "execution_count": 132,
   "metadata": {},
   "outputs": [],
   "source": [
    "configuracion_TorchMDNet(\"input/config.yaml\", reduce_op=\"Default\")"
   ]
  },
  {
   "cell_type": "markdown",
   "metadata": {},
   "source": [
    "`--wandb-use`: Indica si se utilizará *Weights & Biases* (wandb) para el seguimiento y registro de experimentos. *(Valor por defecto: `False`)*."
   ]
  },
  {
   "cell_type": "code",
   "execution_count": 133,
   "metadata": {},
   "outputs": [],
   "source": [
    "configuracion_TorchMDNet(\"input/config.yaml\", wandb_use=\"Default\")"
   ]
  },
  {
   "cell_type": "markdown",
   "metadata": {},
   "source": [
    "`--wandb-name`: Asigna un nombre al experimento registrado en wandb. Esto facilita la identificación de ejecuciones específicas. *(Valor por defecto: `'training'`)*."
   ]
  },
  {
   "cell_type": "code",
   "execution_count": 134,
   "metadata": {},
   "outputs": [],
   "source": [
    "configuracion_TorchMDNet(\"input/config.yaml\", wandb_name=\"Default\")"
   ]
  },
  {
   "cell_type": "markdown",
   "metadata": {},
   "source": [
    "`--wandb-project`: Define el proyecto de wandb en el que se registrarán los datos de la ejecución. *(Valor por defecto: `'training_'`)*."
   ]
  },
  {
   "cell_type": "code",
   "execution_count": 135,
   "metadata": {},
   "outputs": [],
   "source": [
    "configuracion_TorchMDNet(\"input/config.yaml\", wandb_project=\"Default\")"
   ]
  },
  {
   "cell_type": "markdown",
   "metadata": {},
   "source": [
    "`--wandb-resume-from-id`: Permite reanudar una ejecución previa en wandb a partir de un ID de ejecución específico. El ID puede recuperarse desde el tablero de wandb. *(Valor por defecto: `None`)*."
   ]
  },
  {
   "cell_type": "code",
   "execution_count": 136,
   "metadata": {},
   "outputs": [],
   "source": [
    "configuracion_TorchMDNet(\"input/config.yaml\", wandb_resume_from_id=\"Default\")"
   ]
  },
  {
   "cell_type": "markdown",
   "metadata": {},
   "source": [
    "`--tensorboard-use`: Indica si se utilizará TensorBoard para visualizar métricas y gráficos durante el entrenamiento. *(Valor por defecto: `False`)*.\n"
   ]
  },
  {
   "cell_type": "code",
   "execution_count": 137,
   "metadata": {},
   "outputs": [],
   "source": [
    "configuracion_TorchMDNet(\"input/config.yaml\", tensorboard_use=\"Default\")"
   ]
  },
  {
   "cell_type": "markdown",
   "metadata": {},
   "source": [
    "# Generar script de entrenamiento"
   ]
  },
  {
   "cell_type": "code",
   "execution_count": 138,
   "metadata": {},
   "outputs": [
    {
     "name": "stdout",
     "output_type": "stream",
     "text": [
      "El script se ha guardado correctamente en: iniciar-entrenamiento.sh\n"
     ]
    }
   ],
   "source": [
    "ruta_script=\"iniciar-entrenamiento.sh\"\n",
    "gpus=\"0,1,2,3,4\"\n",
    "ruta_conf=\"input/config.yaml\"\n",
    "ruta_archivo_de_salida=\"output/informacion_entrenamiento.txt\"\n",
    "\n",
    "scripts.utils.crear_script_entrenamiento(ruta_script, gpus, ruta_conf,ruta_archivo_de_salida)"
   ]
  },
  {
   "cell_type": "markdown",
   "metadata": {},
   "source": [
    "Comprobar permisos script"
   ]
  },
  {
   "cell_type": "markdown",
   "metadata": {},
   "source": [
    "```bash\n",
    "chmod +x iniciar-entrenamiento.sh\n",
    "```"
   ]
  },
  {
   "cell_type": "markdown",
   "metadata": {},
   "source": [
    "Ejecutar con nohup"
   ]
  },
  {
   "cell_type": "markdown",
   "metadata": {},
   "source": [
    "```bash\n",
    "nohup ./iniciar-entrenamiento.sh > output/salida.log 2>&1 &\n",
    "```"
   ]
  },
  {
   "cell_type": "markdown",
   "metadata": {},
   "source": []
  }
 ],
 "metadata": {
  "kernelspec": {
   "display_name": "torchmd-net",
   "language": "python",
   "name": "python3"
  },
  "language_info": {
   "codemirror_mode": {
    "name": "ipython",
    "version": 3
   },
   "file_extension": ".py",
   "mimetype": "text/x-python",
   "name": "python",
   "nbconvert_exporter": "python",
   "pygments_lexer": "ipython3",
   "version": "3.11.11"
  }
 },
 "nbformat": 4,
 "nbformat_minor": 2
}
