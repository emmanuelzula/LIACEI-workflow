{
 "cells": [
  {
   "cell_type": "markdown",
   "metadata": {},
   "source": [
    "# Desarrollo del script de ejecución por el usuario"
   ]
  },
  {
   "cell_type": "markdown",
   "metadata": {},
   "source": [
    "## Procesamiento datos"
   ]
  },
  {
   "cell_type": "code",
   "execution_count": null,
   "metadata": {},
   "outputs": [],
   "source": [
    "from LIACEI_workflow.data.DinamicaMolecular import DinamicaMolecular, ElementoQuimico\n",
    "from LIACEI_workflow.utils.utils import crear_carpeta\n",
    "from LIACEI_workflow.codes.torchmd_net.utils import guardar_a_TorchMDNet"
   ]
  },
  {
   "cell_type": "code",
   "execution_count": null,
   "metadata": {},
   "outputs": [],
   "source": [
    "# cargar y convertir datos .data\n",
    "base_de_datos=DinamicaMolecular.cargar_desde_data(\"input/input.data\")"
   ]
  },
  {
   "cell_type": "code",
   "execution_count": null,
   "metadata": {},
   "outputs": [],
   "source": [
    "for frame in base_de_datos.frames.values():\n",
    "    # Calcular la suma de las energías atómicas de los elementos\n",
    "    energia_total = sum(ElementoQuimico(e).energia_atomica() for e in frame.elementos)\n",
    "    \n",
    "    # Restar la energía atómica total de la energía actual del frame\n",
    "    frame.energia -= energia_total  # Actualizar directamente el atributo"
   ]
  },
  {
   "cell_type": "code",
   "execution_count": null,
   "metadata": {},
   "outputs": [],
   "source": [
    "crear_carpeta(\"transform\")"
   ]
  },
  {
   "cell_type": "code",
   "execution_count": null,
   "metadata": {},
   "outputs": [],
   "source": [
    "guardar_a_TorchMDNet(base_de_datos, \"transform/input_torchmd-net.h5\")"
   ]
  },
  {
   "cell_type": "code",
   "execution_count": null,
   "metadata": {},
   "outputs": [],
   "source": [
    "crear_carpeta(\"train\")"
   ]
  },
  {
   "cell_type": "markdown",
   "metadata": {},
   "source": [
    "```bash\n",
    "torchmd-train --conf input/config.yaml\n",
    "```"
   ]
  },
  {
   "cell_type": "markdown",
   "metadata": {},
   "source": [
    "## Generar inferencias"
   ]
  },
  {
   "cell_type": "code",
   "execution_count": null,
   "metadata": {},
   "outputs": [],
   "source": [
    "from LIACEI_workflow.data.DinamicaMolecular import DinamicaMolecular\n",
    "from LIACEI_workflow.codes.torchmd_net.utils import (\n",
    "    cargar_desde_TorchMDNet,\n",
    "    generar_inferencias,\n",
    "    obtener_indices_test,\n",
    "    obtener_ruta_modelo_entrenado\n",
    ")"
   ]
  },
  {
   "cell_type": "code",
   "execution_count": null,
   "metadata": {},
   "outputs": [],
   "source": [
    "ruta_modelo = obtener_ruta_modelo_entrenado(\"train\")"
   ]
  },
  {
   "cell_type": "code",
   "execution_count": null,
   "metadata": {},
   "outputs": [],
   "source": [
    "base_de_datos = cargar_desde_TorchMDNet(\"transform/input_torchmd-net.h5\")"
   ]
  },
  {
   "cell_type": "code",
   "execution_count": null,
   "metadata": {},
   "outputs": [],
   "source": [
    "test_idx = obtener_indices_test(\"train/splits.npz\")"
   ]
  },
  {
   "cell_type": "code",
   "execution_count": null,
   "metadata": {},
   "outputs": [],
   "source": [
    "subconjunto_test = DinamicaMolecular.subconjunto(base_de_datos, test_idx)"
   ]
  },
  {
   "cell_type": "code",
   "execution_count": null,
   "metadata": {},
   "outputs": [],
   "source": [
    "inferencias = generar_inferencias(subconjunto_test,ruta_modelo)"
   ]
  },
  {
   "cell_type": "code",
   "execution_count": null,
   "metadata": {},
   "outputs": [],
   "source": [
    "# Guardar Inferencias\n",
    "DinamicaMolecular.guardar_a_hdf5(inferencias,\"train/output_LIACEI.h5\")"
   ]
  },
  {
   "cell_type": "markdown",
   "metadata": {},
   "source": [
    "## Generación datos para graficas"
   ]
  },
  {
   "cell_type": "code",
   "execution_count": null,
   "metadata": {},
   "outputs": [],
   "source": [
    "from LIACEI_workflow.data.DinamicaMolecular import Utils\n",
    "from LIACEI_workflow.data.DinamicaMolecular import DinamicaMolecular\n",
    "from LIACEI_workflow.utils.utils import crear_carpeta\n",
    "from LIACEI_workflow.codes.torchmd_net.utils import (\n",
    "    cargar_desde_TorchMDNet,\n",
    "    guardar_metricas,\n",
    "    obtener_indices_test\n",
    ")"
   ]
  },
  {
   "cell_type": "code",
   "execution_count": null,
   "metadata": {},
   "outputs": [],
   "source": [
    "# Cargar referencias\n",
    "referencias = cargar_desde_TorchMDNet(\"transform/input_torchmd-net.h5\")\n",
    "test_idx = obtener_indices_test(\"train/splits.npz\")\n",
    "referencias = DinamicaMolecular.subconjunto(referencias, test_idx)"
   ]
  },
  {
   "cell_type": "code",
   "execution_count": null,
   "metadata": {},
   "outputs": [],
   "source": [
    "# Cargar inferencias\n",
    "inferencias = DinamicaMolecular.cargar_desde_hdf5(\"train/output_LIACEI.h5\")"
   ]
  },
  {
   "cell_type": "code",
   "execution_count": null,
   "metadata": {},
   "outputs": [],
   "source": [
    "crear_carpeta(\"analysis\")"
   ]
  },
  {
   "cell_type": "code",
   "execution_count": null,
   "metadata": {},
   "outputs": [],
   "source": [
    "guardar_metricas(\"train/metrics.csv\",\"analysis/epoch_vs_loss.data\")"
   ]
  },
  {
   "cell_type": "code",
   "execution_count": null,
   "metadata": {},
   "outputs": [],
   "source": [
    "\n",
    "Utils.comparar_frames(referencias, inferencias)"
   ]
  },
  {
   "cell_type": "code",
   "execution_count": null,
   "metadata": {},
   "outputs": [],
   "source": [
    "\n",
    "Utils.calcular_angulos_y_guardar(referencias, inferencias)"
   ]
  },
  {
   "cell_type": "code",
   "execution_count": null,
   "metadata": {},
   "outputs": [],
   "source": [
    "\n",
    "Utils.calcular_modulos_fuerza_y_guardar(referencias, inferencias)"
   ]
  },
  {
   "cell_type": "code",
   "execution_count": null,
   "metadata": {},
   "outputs": [],
   "source": [
    "\n",
    "Utils.guardar_energia_referencia_vs_inferencia(referencias, inferencias)"
   ]
  },
  {
   "cell_type": "markdown",
   "metadata": {},
   "source": [
    "## Graficas"
   ]
  },
  {
   "cell_type": "code",
   "execution_count": 2,
   "metadata": {},
   "outputs": [],
   "source": [
    "from LIACEI_workflow.analysis.DinamicaMolecular import Graficas_genericas"
   ]
  },
  {
   "cell_type": "code",
   "execution_count": 3,
   "metadata": {},
   "outputs": [],
   "source": [
    "Graficas_genericas.grafica_epoch_vs_loss()"
   ]
  },
  {
   "cell_type": "code",
   "execution_count": 4,
   "metadata": {},
   "outputs": [],
   "source": [
    "Graficas_genericas.grafica_ref_vs_inf_energy()"
   ]
  },
  {
   "cell_type": "code",
   "execution_count": 5,
   "metadata": {},
   "outputs": [],
   "source": [
    "Graficas_genericas.grafica_ref_vs_inf_energy_hist_2d()"
   ]
  },
  {
   "cell_type": "code",
   "execution_count": 6,
   "metadata": {},
   "outputs": [],
   "source": [
    "Graficas_genericas.grafica_ref_vs_inf_energy_hist_3d()"
   ]
  },
  {
   "cell_type": "code",
   "execution_count": 7,
   "metadata": {},
   "outputs": [],
   "source": [
    "Graficas_genericas.grafica_ref_vs_inf_energy_hist()"
   ]
  },
  {
   "cell_type": "code",
   "execution_count": 8,
   "metadata": {},
   "outputs": [],
   "source": [
    "Graficas_genericas.grafica_ref_vs_inf_energy_abs_dif()"
   ]
  },
  {
   "cell_type": "code",
   "execution_count": 9,
   "metadata": {},
   "outputs": [
    {
     "name": "stderr",
     "output_type": "stream",
     "text": [
      "/workspace/refactorizacion/LIACEI_workflow/analysis/DinamicaMolecular.py:277: FutureWarning: The 'delim_whitespace' keyword in pd.read_csv is deprecated and will be removed in a future version. Use ``sep='\\s+'`` instead\n",
      "  datos = pd.read_csv(path_data_file, header=None, skiprows=1, delim_whitespace=True)\n",
      "/workspace/refactorizacion/LIACEI_workflow/analysis/DinamicaMolecular.py:277: FutureWarning: The 'delim_whitespace' keyword in pd.read_csv is deprecated and will be removed in a future version. Use ``sep='\\s+'`` instead\n",
      "  datos = pd.read_csv(path_data_file, header=None, skiprows=1, delim_whitespace=True)\n",
      "/workspace/refactorizacion/LIACEI_workflow/analysis/DinamicaMolecular.py:277: FutureWarning: The 'delim_whitespace' keyword in pd.read_csv is deprecated and will be removed in a future version. Use ``sep='\\s+'`` instead\n",
      "  datos = pd.read_csv(path_data_file, header=None, skiprows=1, delim_whitespace=True)\n",
      "/workspace/refactorizacion/LIACEI_workflow/analysis/DinamicaMolecular.py:277: FutureWarning: The 'delim_whitespace' keyword in pd.read_csv is deprecated and will be removed in a future version. Use ``sep='\\s+'`` instead\n",
      "  datos = pd.read_csv(path_data_file, header=None, skiprows=1, delim_whitespace=True)\n",
      "/workspace/refactorizacion/LIACEI_workflow/analysis/DinamicaMolecular.py:277: FutureWarning: The 'delim_whitespace' keyword in pd.read_csv is deprecated and will be removed in a future version. Use ``sep='\\s+'`` instead\n",
      "  datos = pd.read_csv(path_data_file, header=None, skiprows=1, delim_whitespace=True)\n",
      "/workspace/refactorizacion/LIACEI_workflow/analysis/DinamicaMolecular.py:277: FutureWarning: The 'delim_whitespace' keyword in pd.read_csv is deprecated and will be removed in a future version. Use ``sep='\\s+'`` instead\n",
      "  datos = pd.read_csv(path_data_file, header=None, skiprows=1, delim_whitespace=True)\n"
     ]
    }
   ],
   "source": [
    "Graficas_genericas.graficas_ref_vs_inf_forces_angles_abs_dif()"
   ]
  },
  {
   "cell_type": "code",
   "execution_count": 10,
   "metadata": {},
   "outputs": [],
   "source": [
    "Graficas_genericas.graficas_ref_vs_inf_forces_modules()"
   ]
  },
  {
   "cell_type": "code",
   "execution_count": 11,
   "metadata": {},
   "outputs": [],
   "source": [
    "Graficas_genericas.graficas_ref_vs_inf_forces_modules_hist_2d()"
   ]
  },
  {
   "cell_type": "code",
   "execution_count": 12,
   "metadata": {},
   "outputs": [],
   "source": [
    "Graficas_genericas.graficas_ref_vs_inf_forces_modules_hist_3d()"
   ]
  },
  {
   "cell_type": "code",
   "execution_count": 13,
   "metadata": {},
   "outputs": [],
   "source": [
    "Graficas_genericas.graficas_ref_vs_inf_forces_modules_hist()"
   ]
  }
 ],
 "metadata": {
  "kernelspec": {
   "display_name": "torchmd-net-safe",
   "language": "python",
   "name": "python3"
  },
  "language_info": {
   "codemirror_mode": {
    "name": "ipython",
    "version": 3
   },
   "file_extension": ".py",
   "mimetype": "text/x-python",
   "name": "python",
   "nbconvert_exporter": "python",
   "pygments_lexer": "ipython3",
   "version": "3.11.11"
  }
 },
 "nbformat": 4,
 "nbformat_minor": 2
}
